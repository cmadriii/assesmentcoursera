{
 "cells": [
  {
   "cell_type": "markdown",
   "id": "9f48bec1",
   "metadata": {},
   "source": [
    "# Data Science Tools and Ecosystem"
   ]
  },
  {
   "cell_type": "markdown",
   "id": "f3183a21",
   "metadata": {},
   "source": [
    "In this notebook, Data Science tools and Ecosystem are summarized."
   ]
  },
  {
   "cell_type": "markdown",
   "id": "8f3931f5",
   "metadata": {},
   "source": [
    "**Objectives:**\n",
    "\n",
    "+ List popular languages for Data Science.\n",
    "+ Commonly used libraries used by Data Scientists.\n",
    "+ Evaluating arithmetic expressions in Python.\n"
   ]
  },
  {
   "cell_type": "markdown",
   "id": "8d54c9fc",
   "metadata": {},
   "source": [
    "Some of the popular languages that Data Scientists use are:\n",
    "\n",
    "1. Python\n",
    "2. Java\n",
    "3. C++\n",
    "4. C \n"
   ]
  },
  {
   "cell_type": "markdown",
   "id": "eacd3585",
   "metadata": {},
   "source": [
    "Some of the commonly used libraries used by Data Scientists include:\n",
    "\n",
    "1. Plotly\n",
    "2. Matplotlib\n",
    "3. Altair\n",
    "4. ipywidgets"
   ]
  },
  {
   "cell_type": "markdown",
   "id": "1ea9b68e",
   "metadata": {},
   "source": [
    "|Data Science Tools| \n",
    "|----------------- |\n",
    "|Tensor Flow|\n",
    "|PostgreSQL|\n",
    "|MYSQL|\n",
    " \n"
   ]
  },
  {
   "cell_type": "markdown",
   "id": "e044a82e",
   "metadata": {},
   "source": [
    "### Below are a few examples of evaluating arithmetic expressions in Python\n"
   ]
  },
  {
   "cell_type": "code",
   "execution_count": 7,
   "id": "7e5864a0",
   "metadata": {},
   "outputs": [
    {
     "data": {
      "text/html": [
       "17"
      ],
      "text/latex": [
       "17"
      ],
      "text/markdown": [
       "17"
      ],
      "text/plain": [
       "[1] 17"
      ]
     },
     "metadata": {},
     "output_type": "display_data"
    }
   ],
   "source": [
    "# This a simple arithmetic expression to mutiply then add integers.\n",
    "(3*4)+5"
   ]
  },
  {
   "cell_type": "code",
   "execution_count": 22,
   "id": "fab34634",
   "metadata": {},
   "outputs": [
    {
     "name": "stdout",
     "output_type": "stream",
     "text": [
      "[1] 3.333333\n"
     ]
    }
   ],
   "source": [
    "# This will convert 200 minutes to hours by diving by 60\n",
    "\n",
    "hour = 60\n",
    "print (200/hour)\n"
   ]
  },
  {
   "cell_type": "markdown",
   "id": "8fc60613",
   "metadata": {},
   "source": [
    "## Author:\n",
    "Camilo Madrinan."
   ]
  },
  {
   "cell_type": "code",
   "execution_count": null,
   "id": "f8d72295",
   "metadata": {},
   "outputs": [],
   "source": []
  }
 ],
 "metadata": {
  "kernelspec": {
   "display_name": "R",
   "language": "R",
   "name": "ir"
  },
  "language_info": {
   "codemirror_mode": "r",
   "file_extension": ".r",
   "mimetype": "text/x-r-source",
   "name": "R",
   "pygments_lexer": "r",
   "version": "4.3.1"
  }
 },
 "nbformat": 4,
 "nbformat_minor": 5
}
